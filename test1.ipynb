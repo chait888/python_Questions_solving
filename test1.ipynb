{
 "cells": [
  {
   "cell_type": "code",
   "execution_count": null,
   "id": "c039f18b-1bdb-4a4d-8878-1e007876f339",
   "metadata": {},
   "outputs": [],
   "source": [
    "# 1.Sum of Digits\n",
    "#Write a function sum_of_digits(n) that takes an integer and returns the sum of its digits.\n",
    "#Example: sum_of_digits(1234) → 10"
   ]
  },
  {
   "cell_type": "code",
   "execution_count": 6,
   "id": "db362bd3-7873-4b6d-a7c9-90217564772f",
   "metadata": {},
   "outputs": [
    {
     "name": "stdin",
     "output_type": "stream",
     "text": [
      "enter the number: 1234\n"
     ]
    },
    {
     "name": "stdout",
     "output_type": "stream",
     "text": [
      "sum of digits:\n"
     ]
    },
    {
     "data": {
      "text/plain": [
       "10"
      ]
     },
     "execution_count": 6,
     "metadata": {},
     "output_type": "execute_result"
    }
   ],
   "source": [
    "def sumofdigit():\n",
    "    n=int(input(\"enter the number:\"))\n",
    "    sum=0\n",
    "    while n>0:\n",
    "        sum=sum+n%10\n",
    "        n=n//10\n",
    "    print(\"sum of digits:\")\n",
    "    return sum\n",
    "sumofdigit()\n",
    "        \n",
    "    \n",
    "\n",
    "    "
   ]
  },
  {
   "cell_type": "code",
   "execution_count": null,
   "id": "5ceb5f2a-6791-4b08-a460-0a6400f9d6ef",
   "metadata": {},
   "outputs": [],
   "source": [
    "#2.Count Vowels\n",
    "# Write a function count_vowels(s) that counts the number of vowels in a string using a loop.\n",
    "# Example: count_vowels(\"hello world\") → 3\n"
   ]
  },
  {
   "cell_type": "code",
   "execution_count": 14,
   "id": "ee1cedb6-70d8-4bb7-80ae-573f604b5aed",
   "metadata": {},
   "outputs": [
    {
     "name": "stdin",
     "output_type": "stream",
     "text": [
      "Enter the string: helllo wordl\n"
     ]
    },
    {
     "data": {
      "text/plain": [
       "3"
      ]
     },
     "execution_count": 14,
     "metadata": {},
     "output_type": "execute_result"
    }
   ],
   "source": [
    "def count_vowels():\n",
    "    s=str(input(\"Enter the string:\"))\n",
    "    count=0\n",
    "    vowels='aeiouAEIOU'\n",
    "    for i in s:\n",
    "        if i in vowels:\n",
    "            count=count+1\n",
    "    return count\n",
    "count_vowels()\n",
    "        \n",
    "        \n",
    "        \n",
    "        \n",
    "        "
   ]
  },
  {
   "cell_type": "code",
   "execution_count": null,
   "id": "615079c0-c5b0-4f23-a18e-e75e75a48833",
   "metadata": {},
   "outputs": [],
   "source": [
    "\n",
    "# Factorial using Loop\n",
    "# Write a function factorial(n) that calculates factorial using a for loop.\n",
    "# Example: factorial(5) → 120"
   ]
  },
  {
   "cell_type": "code",
   "execution_count": 27,
   "id": "1b431c7e-bccd-4359-9536-21304580b38d",
   "metadata": {},
   "outputs": [
    {
     "name": "stdin",
     "output_type": "stream",
     "text": [
      "Enter the number: 8\n"
     ]
    },
    {
     "data": {
      "text/plain": [
       "'factorail of number is:40320'"
      ]
     },
     "execution_count": 27,
     "metadata": {},
     "output_type": "execute_result"
    }
   ],
   "source": [
    "def factorial():\n",
    "    n=int(input(\"Enter the number:\"))\n",
    "    fact=1\n",
    "    for i in range(1,n+1):\n",
    "        fact=fact*i\n",
    "    return f\"factorail of number is:{fact}\"\n",
    "factorial()"
   ]
  },
  {
   "cell_type": "code",
   "execution_count": null,
   "id": "f07f93e1-ace9-4c54-ae1f-5dc734a5c57d",
   "metadata": {},
   "outputs": [],
   "source": [
    "# 4.Prime Check\n",
    "# Write a function is_prime(n) that returns True if n is prime, otherwise False.\n",
    "# Example: is_prime(11) → True\n"
   ]
  },
  {
   "cell_type": "code",
   "execution_count": 32,
   "id": "f93bbb9d-2375-4508-9d34-b30af665655e",
   "metadata": {},
   "outputs": [
    {
     "data": {
      "text/plain": [
       "True"
      ]
     },
     "execution_count": 32,
     "metadata": {},
     "output_type": "execute_result"
    }
   ],
   "source": [
    "def is_prime(n):\n",
    "    if n>1:\n",
    "        for i in range(2,n):\n",
    "            if n%i==0:\n",
    "                return False\n",
    "        return True\n",
    "is_prime(11)\n",
    "    "
   ]
  },
  {
   "cell_type": "code",
   "execution_count": null,
   "id": "0a5adba2-99ca-4145-9680-8672d34aaf67",
   "metadata": {},
   "outputs": [],
   "source": [
    "#  5.Reverse a String\n",
    "# Write a function reverse_string(s) that reverses a string using a loop.\n",
    "# Example: reverse_string(\"python\") → \"nohtyp\""
   ]
  },
  {
   "cell_type": "code",
   "execution_count": 43,
   "id": "3a7030dd-f78e-4579-9836-5dbb65c51408",
   "metadata": {},
   "outputs": [
    {
     "name": "stdin",
     "output_type": "stream",
     "text": [
      "enter the string: python\n"
     ]
    },
    {
     "data": {
      "text/plain": [
       "'nohtyp'"
      ]
     },
     "execution_count": 43,
     "metadata": {},
     "output_type": "execute_result"
    }
   ],
   "source": [
    "def reverse_string():\n",
    "    s=str(input(\"enter the string:\"))\n",
    "    for i in s:\n",
    "        a=s[::-1]\n",
    "    return a\n",
    "reverse_string()\n",
    "\n",
    "        \n",
    "        \n",
    "    \n",
    "        \n",
    "        \n",
    "    "
   ]
  },
  {
   "cell_type": "code",
   "execution_count": null,
   "id": "8f597817-6aa8-4fcf-9aec-ec089db20a81",
   "metadata": {},
   "outputs": [],
   "source": [
    "#6.Fibonacci Series\n",
    "# Write a function fibonacci(n) that prints the first n numbers of the Fibonacci sequence.\n",
    "# Example: fibonacci(5) → [0, 1, 1, \n",
    "2, 3]\n"
   ]
  },
  {
   "cell_type": "code",
   "execution_count": 47,
   "id": "5eba80d6-0bf2-40d3-b9fc-82004fcee003",
   "metadata": {},
   "outputs": [
    {
     "name": "stdin",
     "output_type": "stream",
     "text": [
      "Enter how many terms:  5\n"
     ]
    },
    {
     "name": "stdout",
     "output_type": "stream",
     "text": [
      "Fibonacci Series: [0, 1, 1, 2, 3]\n"
     ]
    }
   ],
   "source": [
    "def fibonacci(n):\n",
    "    x, y= 0, 1\n",
    "    sequence = []\n",
    "    for i in range(n):\n",
    "        sequence.append(x)\n",
    "        x, y = y, x+ y\n",
    "    print(\"Fibonacci Series:\", sequence)\n",
    "num = int(input(\"Enter the number: \"))\n",
    "fibonacci(num)\n",
    "\n",
    "\n",
    "    \n"
   ]
  },
  {
   "cell_type": "code",
   "execution_count": null,
   "id": "f58b73b8-03c9-4db1-963c-bbe96793c0f9",
   "metadata": {},
   "outputs": [],
   "source": [
    "#7 Even Numbers from List\n",
    "# Write a function get_even_numbers(lst) that returns a list of even numbers from the given list.\n",
    "# Example: get_even_numbers([1,2,3,4,5,6]) → [2,4,6]"
   ]
  },
  {
   "cell_type": "code",
   "execution_count": 54,
   "id": "67cd5c67-6c9d-4a14-b767-c998d32980a8",
   "metadata": {},
   "outputs": [
    {
     "name": "stdout",
     "output_type": "stream",
     "text": [
      "even numbers:\n"
     ]
    },
    {
     "data": {
      "text/plain": [
       "[2, 4, 6]"
      ]
     },
     "execution_count": 54,
     "metadata": {},
     "output_type": "execute_result"
    }
   ],
   "source": [
    "def get_even_numbers(lst):\n",
    "     even=[]\n",
    "     for i in lst:\n",
    "         if i%2==0:\n",
    "             even.append(i)\n",
    "     return even\n",
    "numbers=[1,2,3,4,5,6]\n",
    "print(\"even numbers:\")\n",
    "get_even_numbers(numbers)\n",
    "\n",
    "    \n",
    "\n",
    "\n"
   ]
  },
  {
   "cell_type": "code",
   "execution_count": null,
   "id": "084be7b8-c964-4a25-9a86-6de7020167d6",
   "metadata": {},
   "outputs": [],
   "source": [
    "# 13.Number Pattern\n",
    "# Write a function number_pattern(n) that prints the following pattern using loops:\n",
    "# For n=5\n",
    "\n",
    "# 1\n",
    "# 1 2\n",
    "# 1 2 3\n",
    "# 1 2 3 4\n",
    "# 1 2 3 4 5"
   ]
  },
  {
   "cell_type": "code",
   "execution_count": 64,
   "id": "0727bb3b-b866-450c-bb0d-80c230e957c0",
   "metadata": {},
   "outputs": [
    {
     "name": "stdout",
     "output_type": "stream",
     "text": [
      "1 \n",
      "1 2 \n",
      "1 2 3 \n",
      "1 2 3 4 \n",
      "1 2 3 4 5 \n"
     ]
    }
   ],
   "source": [
    "def number_pattern(n):\n",
    "     for row in range(1,n+1):\n",
    "        for col in range(1,row+1):\n",
    "            \n",
    "            print(col,end=\" \")\n",
    "        print()\n",
    "number_pattern(5)\n"
   ]
  },
  {
   "cell_type": "code",
   "execution_count": null,
   "id": "99f8653c-ffe1-40ea-a864-24c69ca8c2f0",
   "metadata": {},
   "outputs": [],
   "source": []
  },
  {
   "cell_type": "code",
   "execution_count": 65,
   "id": "8c6d4091-f1d5-488c-a430-eb86d4ba1344",
   "metadata": {},
   "outputs": [
    {
     "ename": "_IncompleteInputError",
     "evalue": "incomplete input (617585297.py, line 1)",
     "output_type": "error",
     "traceback": [
      "\u001b[1;36m  Cell \u001b[1;32mIn[65], line 1\u001b[1;36m\u001b[0m\n\u001b[1;33m    def count_words(sentence):\u001b[0m\n\u001b[1;37m                              ^\u001b[0m\n\u001b[1;31m_IncompleteInputError\u001b[0m\u001b[1;31m:\u001b[0m incomplete input\n"
     ]
    }
   ],
   "source": [
    "\n",
    "# 14.Find Common Elements\n",
    "# Write a function common_elements(list1, list2) that returns the common elements of two lists using loops.\n",
    "# Example: common_elements([1,2,3,4], [3,4,5,6]) → [3,4]\n",
    "    \n",
    "    \n",
    "    \n",
    "    "
   ]
  },
  {
   "cell_type": "code",
   "execution_count": null,
   "id": "9767db98-1e13-4aa0-a01e-57fe21f26da9",
   "metadata": {},
   "outputs": [],
   "source": [
    "def common_elements(list1, list2):\n",
    "    common = []\n",
    "    for element in list1:\n",
    "        if element in list2:\n",
    "            if element not in common:  #\n",
    "                common.append(element)\n",
    "    return common\n",
    "list1 = [1, 2, 3, 4]\n",
    "list2 = [3, 4, 5, 6]\n",
    "print(\"Common elements:\")\n",
    "common_elements(list1, list2))\n"
   ]
  },
  {
   "cell_type": "code",
   "execution_count": null,
   "id": "b4eea206-dd9e-4d4e-ae33-78e359ddd15f",
   "metadata": {},
   "outputs": [],
   "source": []
  }
 ],
 "metadata": {
  "kernelspec": {
   "display_name": "Python 3 (ipykernel)",
   "language": "python",
   "name": "python3"
  },
  "language_info": {
   "codemirror_mode": {
    "name": "ipython",
    "version": 3
   },
   "file_extension": ".py",
   "mimetype": "text/x-python",
   "name": "python",
   "nbconvert_exporter": "python",
   "pygments_lexer": "ipython3",
   "version": "3.13.5"
  }
 },
 "nbformat": 4,
 "nbformat_minor": 5
}
