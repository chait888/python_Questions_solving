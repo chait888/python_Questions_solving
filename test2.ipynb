{
 "cells": [
  {
   "cell_type": "markdown",
   "id": "6c76cd5d-c737-4a90-b337-d708c0426277",
   "metadata": {},
   "source": [
    "1. Type Conversion Twist: \n",
    "What will be the code if output if code is this ? Explain why. \n",
    "a = \"5” \n",
    "b = 2 \n",
    "print(a * b + str(b))"
   ]
  },
  {
   "cell_type": "code",
   "execution_count": 1,
   "id": "5ab0faec-e95a-404f-b7f7-eeef1cbba286",
   "metadata": {},
   "outputs": [
    {
     "name": "stdout",
     "output_type": "stream",
     "text": [
      "552\n"
     ]
    }
   ],
   "source": [
    "a=\"5\"\n",
    "b=2\n",
    "print(a*b+str(b))\n",
    "#output is 552 beacuse \"a\" works as a string and b is converted int to str(type casting),and  it is append to it  as it is."
   ]
  },
  {
   "cell_type": "markdown",
   "id": "c28620dd-5f76-42e7-af9b-e3ddf329fe1b",
   "metadata": {},
   "source": [
    "2.Mutable vs Immutable: \n",
    "Predict the output and explain the behavior. \n",
    "x = [1, 2, 3] \n",
    "y = x \n",
    "y.append(4) \n",
    "print(x)"
   ]
  },
  {
   "cell_type": "code",
   "execution_count": 2,
   "id": "23713c91-2a4e-4a5f-9696-4c557b4cfec1",
   "metadata": {},
   "outputs": [
    {
     "name": "stdout",
     "output_type": "stream",
     "text": [
      "[1, 2, 3, 4]\n"
     ]
    }
   ],
   "source": [
    "x=[1,2,3]\n",
    "y=x\n",
    "y.append(4)\n",
    "print(x)\n",
    "# list is immutable we can  insert,update and delete it. we can any change y that is updated in x because they are assign to each other."
   ]
  },
  {
   "cell_type": "markdown",
   "id": "deb62d9b-58d9-48fd-8092-90951aedd9cf",
   "metadata": {},
   "source": [
    "3.String Operations: \n",
    "Write a program to count how many numbers are present in a given string without using any built-in count() \n",
    "method. use user defined function "
   ]
  },
  {
   "cell_type": "code",
   "execution_count": 3,
   "id": "ac741f09-7f09-4df5-ab1f-13c2cfb5430d",
   "metadata": {},
   "outputs": [
    {
     "name": "stdin",
     "output_type": "stream",
     "text": [
      "Enter a string:  rahul123\n"
     ]
    },
    {
     "data": {
      "text/plain": [
       "3"
      ]
     },
     "execution_count": 3,
     "metadata": {},
     "output_type": "execute_result"
    }
   ],
   "source": [
    "def count_numbers(s):\n",
    "    count = 0\n",
    "    for char in s:\n",
    "        if char.isdigit():   \n",
    "            count += 1\n",
    "    return count\n",
    "word = str(input(\"Enter a string: \"))\n",
    "count_numbers(word)\n"
   ]
  },
  {
   "cell_type": "markdown",
   "id": "69d144a8-4a57-4fea-94d5-e5745e2e2c40",
   "metadata": {},
   "source": [
    "5. Nested Loop Logic: \n",
    "Write a program that prints the following pattern using loops: \n",
    "1 2 \n",
    "3 4 5 \n",
    "6 7 8 9 \n",
    "10 11 12 13"
   ]
  },
  {
   "cell_type": "code",
   "execution_count": 16,
   "id": "0c8ef085-5cf2-45c9-870b-43d372f8d5f9",
   "metadata": {},
   "outputs": [
    {
     "name": "stdout",
     "output_type": "stream",
     "text": [
      "1 2 \n",
      "3 4 5 \n",
      "6 7 8 9 \n",
      "10 11 12 13 \n"
     ]
    }
   ],
   "source": [
    "n= 1\n",
    "for row in range(2,6):\n",
    "    for j in range(row):\n",
    "        if n>13:\n",
    "            break\n",
    "        print(n,end=\" \")\n",
    "        n+=1\n",
    "    print()\n"
   ]
  },
  {
   "cell_type": "markdown",
   "id": "3c3ed101-43ce-458f-a856-7a169e85600b",
   "metadata": {},
   "source": [
    "6. While Loop with Condition: \n",
    "Write a program using a while loop to find the sum of digits of a given integer. "
   ]
  },
  {
   "cell_type": "code",
   "execution_count": 29,
   "id": "5ba7f95b-742e-40ca-becf-ae2bf22ae15a",
   "metadata": {},
   "outputs": [
    {
     "name": "stdin",
     "output_type": "stream",
     "text": [
      "enter the number: 1234\n"
     ]
    },
    {
     "data": {
      "text/plain": [
       "10"
      ]
     },
     "execution_count": 29,
     "metadata": {},
     "output_type": "execute_result"
    }
   ],
   "source": [
    "def sumofdigit():\n",
    "    n=int(input(\"enter the number:\"))\n",
    "    sum=0\n",
    "    while n>0:\n",
    "        sum=sum+n%10\n",
    "        n=n//10\n",
    "    return sum\n",
    "sumofdigit()\n",
    "    "
   ]
  },
  {
   "cell_type": "markdown",
   "id": "a2a3657a-ec8f-4621-81f2-3906457d7bed",
   "metadata": {},
   "source": [
    "7. Break and Continue Combo: \n",
    "Write a program that prints all numbers from 1 to 30 except multiples of 3. \n",
    "Stop the loop completely if a number is divisible by 13."
   ]
  },
  {
   "cell_type": "code",
   "execution_count": 35,
   "id": "8ab6fc25-462c-4c5e-b2fa-75b586ecfd53",
   "metadata": {},
   "outputs": [
    {
     "name": "stdout",
     "output_type": "stream",
     "text": [
      "1\n",
      "2\n",
      "4\n",
      "5\n",
      "7\n",
      "8\n",
      "10\n",
      "11\n"
     ]
    }
   ],
   "source": [
    "for i in range(1,31):\n",
    "    if i % 13==0:\n",
    "        break\n",
    "    if i % 3== 0:\n",
    "        continue  \n",
    "    print(i)     "
   ]
  },
  {
   "cell_type": "markdown",
   "id": "173c5560-a829-4404-a30a-b4fbde60a004",
   "metadata": {},
   "source": [
    "9. Function Default Parameter Trap: \n",
    "Predict the output with explanation of code \n",
    "def add_item(item, items=[]): \n",
    "items.append(item) \n",
    "return items \n",
    "print(add_item(1)) \n",
    "print(add_item(2))"
   ]
  },
  {
   "cell_type": "code",
   "execution_count": 38,
   "id": "6c77004a-65ce-4b3c-9552-5aed6624b4e9",
   "metadata": {},
   "outputs": [
    {
     "name": "stdout",
     "output_type": "stream",
     "text": [
      "[1]\n",
      "[1, 2]\n"
     ]
    }
   ],
   "source": [
    "def add_item(item, items=[]): \n",
    "    items.append(item) \n",
    "    return items \n",
    "print(add_item(1)) \n",
    "print(add_item(2))"
   ]
  },
  {
   "cell_type": "markdown",
   "id": "bffc844d-a250-4543-b7fe-c873b9a29659",
   "metadata": {},
   "source": [
    "10.Using a List comprehension, print only the words longer than 4 letters from a given list."
   ]
  },
  {
   "cell_type": "code",
   "execution_count": 46,
   "id": "fed9a4ef-e995-489f-8dd8-fa5f72818b61",
   "metadata": {},
   "outputs": [
    {
     "name": "stdout",
     "output_type": "stream",
     "text": [
      "['enjoying', 'python', 'mysql']\n"
     ]
    }
   ],
   "source": [
    "s=\"I am enjoying python and mysql\"\n",
    "l=[i for i in s.split() if len(i)>4]\n",
    "print(l)"
   ]
  },
  {
   "cell_type": "markdown",
   "id": "971b3898-0e35-49d3-85af-35c616ef9e68",
   "metadata": {},
   "source": [
    "11. Write a list comprehension that creates a list of squares of even numbers between 1 and 20, but only if the \n",
    "number is not divisible by 4. "
   ]
  },
  {
   "cell_type": "code",
   "execution_count": 50,
   "id": "25a13ca8-2975-46b2-9ddf-46267ceb5521",
   "metadata": {},
   "outputs": [
    {
     "name": "stdout",
     "output_type": "stream",
     "text": [
      "[4, 36, 100, 196, 324]\n"
     ]
    }
   ],
   "source": [
    "squares=[i**2 for i in range(1,21) if i%2==0 and i%4!=0]\n",
    "print(squares)"
   ]
  },
  {
   "cell_type": "markdown",
   "id": "a519d61a-b215-49e7-9696-a94f72bbaef8",
   "metadata": {},
   "source": [
    "13. Take a string input and count how many digits, alphabets, and special characters it contains. "
   ]
  },
  {
   "cell_type": "code",
   "execution_count": 57,
   "id": "907f0ecc-4bb2-4ecc-b769-19c6b97dfadb",
   "metadata": {},
   "outputs": [
    {
     "name": "stdin",
     "output_type": "stream",
     "text": [
      "enter the string: rahul@900#67\n"
     ]
    },
    {
     "name": "stdout",
     "output_type": "stream",
     "text": [
      "Number of Alphabets: 5\n",
      "Number of Digits: 5\n",
      "Number of Special Characters: 2\n"
     ]
    }
   ],
   "source": [
    "s=str(input(\"enter the string:\"))\n",
    "alpha_count = 0\n",
    "digit_count = 0\n",
    "special_char_count = 0\n",
    "for word in s:\n",
    "        if word.isalpha():\n",
    "            alpha_count += 1\n",
    "        elif word.isdigit():\n",
    "            digit_count += 1\n",
    "        else:\n",
    "            special_char_count += 1\n",
    "print(f\"Number of Alphabets: {alpha_count}\")\n",
    "print(f\"Number of Digits: {digit_count}\")\n",
    "print(f\"Number of Special Characters: {special_char_count}\")"
   ]
  },
  {
   "cell_type": "markdown",
   "id": "1eefe0b0-3564-4dd0-ac3b-517b6b71812e",
   "metadata": {},
   "source": [
    "Remove duplicates from a list while maintaining order (no set())."
   ]
  },
  {
   "cell_type": "code",
   "execution_count": 58,
   "id": "3d29c669-46d9-4821-a311-8d2cbd885593",
   "metadata": {},
   "outputs": [
    {
     "name": "stdout",
     "output_type": "stream",
     "text": [
      "[1, 5, 4, 8, 2, 9]\n"
     ]
    }
   ],
   "source": [
    "def remove_duplicates(l):\n",
    "    list_1 = []\n",
    "    for i in l:\n",
    "        if i not in list_1:\n",
    "            list_1.append(i)\n",
    "    return list_1\n",
    "list_2= [1,5,4,8,2,5,1,9,8]\n",
    "new_list = remove_duplicates()\n",
    "print(new_list)\n"
   ]
  },
  {
   "cell_type": "code",
   "execution_count": 61,
   "id": "cd8f0610-0a81-42e1-bb80-05f45d92eb29",
   "metadata": {},
   "outputs": [
    {
     "data": {
      "text/plain": [
       "{1, 2, 4, 5, 8, 9}"
      ]
     },
     "execution_count": 61,
     "metadata": {},
     "output_type": "execute_result"
    }
   ],
   "source": [
    "set={1,5,4,8,2,5,1,9,8}\n",
    "set"
   ]
  },
  {
   "cell_type": "code",
   "execution_count": null,
   "id": "68e0ce4e-3b48-49a9-b664-103ed20c0ee3",
   "metadata": {},
   "outputs": [],
   "source": []
  }
 ],
 "metadata": {
  "kernelspec": {
   "display_name": "Python 3 (ipykernel)",
   "language": "python",
   "name": "python3"
  },
  "language_info": {
   "codemirror_mode": {
    "name": "ipython",
    "version": 3
   },
   "file_extension": ".py",
   "mimetype": "text/x-python",
   "name": "python",
   "nbconvert_exporter": "python",
   "pygments_lexer": "ipython3",
   "version": "3.13.5"
  }
 },
 "nbformat": 4,
 "nbformat_minor": 5
}
